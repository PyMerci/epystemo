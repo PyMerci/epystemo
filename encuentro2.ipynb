{
 "cells": [
  {
   "cell_type": "markdown",
   "metadata": {},
   "source": [
    "# Experimentos algorítmicos típicos\n",
    "\n",
    "Suponer que tengo la posibilidad de ejecutar un experimento equivalente a un bit de probabilidad p"
   ]
  },
  {
   "cell_type": "code",
   "execution_count": 111,
   "metadata": {},
   "outputs": [],
   "source": [
    "from random import choice\n",
    "from fractions import Fraction as F\n",
    "\n",
    "def bit(p):\n",
    "    p = F(str(p)) # truquito\n",
    "    return choice([1] * p.numerator + [0] * (p.denominator - p.numerator))"
   ]
  },
  {
   "cell_type": "code",
   "execution_count": 112,
   "metadata": {},
   "outputs": [
    {
     "data": {
      "text/plain": [
       "[1, 0, 0, 1, 0, 1, 0, 0, 1, 0]"
      ]
     },
     "execution_count": 112,
     "metadata": {},
     "output_type": "execute_result"
    }
   ],
   "source": [
    "[bit(0.3) for _ in range(10)]"
   ]
  },
  {
   "cell_type": "markdown",
   "metadata": {},
   "source": [
    "## Repetirlo n veces incondicionalmente\n",
    "\n",
    "También conocido como _Binomial_."
   ]
  },
  {
   "cell_type": "code",
   "execution_count": 113,
   "metadata": {},
   "outputs": [],
   "source": [
    "def repetirlo(n, p):\n",
    "    secuencia = []\n",
    "    for i in range(n):\n",
    "        secuencia.append(bit(p))\n",
    "    return secuencia"
   ]
  },
  {
   "cell_type": "code",
   "execution_count": 114,
   "metadata": {},
   "outputs": [
    {
     "data": {
      "text/plain": [
       "[[0, 0, 0],\n",
       " [0, 0, 0],\n",
       " [0, 0, 0],\n",
       " [0, 0, 0],\n",
       " [0, 1, 0],\n",
       " [0, 0, 0],\n",
       " [0, 0, 0],\n",
       " [0, 0, 0],\n",
       " [1, 0, 0],\n",
       " [0, 0, 0]]"
      ]
     },
     "execution_count": 114,
     "metadata": {},
     "output_type": "execute_result"
    }
   ],
   "source": [
    "[repetirlo(3, 0.1) for _ in range(10)]"
   ]
  },
  {
   "cell_type": "code",
   "execution_count": 70,
   "metadata": {},
   "outputs": [
    {
     "data": {
      "text/plain": [
       "[(0, 0, 0),\n",
       " (0, 0, 1),\n",
       " (0, 1, 0),\n",
       " (0, 1, 1),\n",
       " (1, 0, 0),\n",
       " (1, 0, 1),\n",
       " (1, 1, 0),\n",
       " (1, 1, 1)]"
      ]
     },
     "execution_count": 70,
     "metadata": {},
     "output_type": "execute_result"
    }
   ],
   "source": [
    "from itertools import product\n",
    "n = 3\n",
    "Omega = list(product(* ((0, 1),)*n))\n",
    "Omega"
   ]
  },
  {
   "cell_type": "markdown",
   "metadata": {},
   "source": [
    "¿Cuánto vale la probabilidad de que salga al menos un 1? Se puede obtener por complemento de \"que salgan todos ceros\":\n",
    "\n",
    "$1 - (1 - p)^n$"
   ]
  },
  {
   "cell_type": "markdown",
   "metadata": {},
   "source": [
    "Para esto se necesita introducir la noción de Evento"
   ]
  },
  {
   "cell_type": "markdown",
   "metadata": {},
   "source": [
    "# Eventos\n",
    "\n",
    "(predicados, álgebra de eventos, sí tiene estructura)\n",
    "\n",
    "Son todas las posibles preguntas al experimento. Se puende pensar como proposiciones lógicas que se evalúan para cada resultado posible. Esto es equivalente a definir un subconjunto de elementos que \"cumplen\" con la proposición."
   ]
  },
  {
   "cell_type": "code",
   "execution_count": 135,
   "metadata": {},
   "outputs": [],
   "source": [
    "def al_menos_un_uno(w):\n",
    "    return sum(w) > 0"
   ]
  },
  {
   "cell_type": "code",
   "execution_count": 137,
   "metadata": {},
   "outputs": [
    {
     "data": {
      "text/plain": [
       "0.875"
      ]
     },
     "execution_count": 137,
     "metadata": {},
     "output_type": "execute_result"
    }
   ],
   "source": [
    "sum(map(al_menos_un_uno, Omega)) / len(Omega)"
   ]
  },
  {
   "cell_type": "code",
   "execution_count": 148,
   "metadata": {},
   "outputs": [
    {
     "data": {
      "text/plain": [
       "0.654"
      ]
     },
     "execution_count": 148,
     "metadata": {},
     "output_type": "execute_result"
    }
   ],
   "source": [
    "M = 1000\n",
    "n = 10\n",
    "p = 0.1\n",
    "len(list(filter(al_menos_un_uno, [repetirlo(n, p) for _ in range(M)]))) / M"
   ]
  },
  {
   "cell_type": "code",
   "execution_count": 149,
   "metadata": {},
   "outputs": [
    {
     "data": {
      "text/plain": [
       "0.6513215599"
      ]
     },
     "execution_count": 149,
     "metadata": {},
     "output_type": "execute_result"
    }
   ],
   "source": [
    "1 - (1 - p)**n"
   ]
  },
  {
   "cell_type": "markdown",
   "metadata": {},
   "source": [
    "## Repetirlo hasta que sea 1"
   ]
  },
  {
   "cell_type": "markdown",
   "metadata": {},
   "source": [
    "También conocido como _Geométrico_."
   ]
  },
  {
   "cell_type": "code",
   "execution_count": 121,
   "metadata": {},
   "outputs": [],
   "source": [
    "def repetir_hasta_que_suceda(p):\n",
    "    secuencia = []\n",
    "    while not (secuencia := secuencia + [bit(p)])[-1]:\n",
    "        continue\n",
    "    return secuencia"
   ]
  },
  {
   "cell_type": "code",
   "execution_count": 122,
   "metadata": {},
   "outputs": [
    {
     "data": {
      "text/plain": [
       "[[0, 1],\n",
       " [0, 0, 0, 0, 0, 1],\n",
       " [0, 0, 0, 0, 1],\n",
       " [0, 0, 0, 0, 0, 1],\n",
       " [0, 0, 0, 0, 0, 1],\n",
       " [0, 0, 1],\n",
       " [0, 0, 0, 1],\n",
       " [1],\n",
       " [0, 0, 0, 0, 0, 0, 0, 0, 1],\n",
       " [0, 1]]"
      ]
     },
     "execution_count": 122,
     "metadata": {},
     "output_type": "execute_result"
    }
   ],
   "source": [
    "[repetir_hasta_que_suceda(0.3) for _ in range(10)]"
   ]
  },
  {
   "cell_type": "markdown",
   "metadata": {},
   "source": [
    "Claramente, $\\Omega$ contiene una cantidad infinita de elementos, pero por suerte es numerable e isomórfico con el conjunto de los números naturales $\\mathbb{N}$. Estos son sus primeros 10 elementos:"
   ]
  },
  {
   "cell_type": "code",
   "execution_count": 133,
   "metadata": {},
   "outputs": [
    {
     "data": {
      "text/plain": [
       "[[1],\n",
       " [0, 1],\n",
       " [0, 0, 1],\n",
       " [0, 0, 0, 1],\n",
       " [0, 0, 0, 0, 1],\n",
       " [0, 0, 0, 0, 0, 1],\n",
       " [0, 0, 0, 0, 0, 0, 1],\n",
       " [0, 0, 0, 0, 0, 0, 0, 1],\n",
       " [0, 0, 0, 0, 0, 0, 0, 0, 1],\n",
       " [0, 0, 0, 0, 0, 0, 0, 0, 0, 1],\n",
       " '...']"
      ]
     },
     "execution_count": 133,
     "metadata": {},
     "output_type": "execute_result"
    }
   ],
   "source": [
    "sub_Omega = [[0] * k + [1] for k in range(10)] + ['...']; sub_Omega"
   ]
  },
  {
   "cell_type": "markdown",
   "metadata": {},
   "source": [
    "### ¿Cómo asignar probabilidades?\n",
    "\n",
    "Una manera de pensarlo es a partir de un experimento parecido: \"tirar la moneda n veces\" y para ese contexto, calcular la probabilidad de obtener la secuencia:"
   ]
  },
  {
   "cell_type": "code",
   "execution_count": 118,
   "metadata": {},
   "outputs": [
    {
     "data": {
      "text/plain": [
       "[0, 0, 0, 0, 1]"
      ]
     },
     "execution_count": 118,
     "metadata": {},
     "output_type": "execute_result"
    }
   ],
   "source": [
    "n = 5\n",
    "[0] * (n - 1) + [1]"
   ]
  },
  {
   "cell_type": "markdown",
   "metadata": {},
   "source": [
    "Se puede ver que la probabilidad es $(1 - p)^(n-1) \\cdot p$. Podríamos probar asignar estas probabilidades a nuestro $\\Omega$."
   ]
  },
  {
   "cell_type": "markdown",
   "metadata": {},
   "source": [
    "Podemos verificarlo usando frecuentismo:"
   ]
  },
  {
   "cell_type": "code",
   "execution_count": 123,
   "metadata": {},
   "outputs": [
    {
     "name": "stdout",
     "output_type": "stream",
     "text": [
      "longitud\tempírica\tpropuesta\n",
      "       1\t0.297000\t0.300000\n",
      "       2\t0.220000\t0.210000\n",
      "       3\t0.144000\t0.147000\n",
      "       4\t0.116000\t0.102900\n",
      "       5\t0.067000\t0.072030\n",
      "       6\t0.043000\t0.050421\n",
      "       7\t0.035000\t0.035295\n",
      "       8\t0.025000\t0.024706\n",
      "       9\t0.022000\t0.017294\n",
      "      10\t0.008000\t0.012106\n",
      "      11\t0.003000\t0.008474\n",
      "      12\t0.009000\t0.005932\n",
      "      13\t0.004000\t0.004152\n",
      "      14\t0.001000\t0.002907\n",
      "      15\t0.001000\t0.002035\n",
      "      16\t0.003000\t0.001424\n",
      "      17\t0.001000\t0.000997\n",
      "      18\t0.001000\t0.000698\n"
     ]
    }
   ],
   "source": [
    "from collections import Counter\n",
    "M = 1000 # ejecuciones\n",
    "p = 0.3\n",
    "histograma = Counter(map(len, [repetir_hasta_que_suceda(p) for _ in range(M)]))\n",
    "longitudes = sorted(histograma.keys())\n",
    "print('longitud\\tempírica\\tpropuesta')\n",
    "for l in longitudes:\n",
    "    veces = histograma[l]\n",
    "    print(f'{l:8}\\t{veces/M:3f}\\t{p*(1-p)**(l-1):3f}')"
   ]
  },
  {
   "cell_type": "code",
   "execution_count": 104,
   "metadata": {},
   "outputs": [],
   "source": [
    "from math import comb"
   ]
  },
  {
   "cell_type": "code",
   "execution_count": null,
   "metadata": {},
   "outputs": [],
   "source": []
  },
  {
   "cell_type": "code",
   "execution_count": null,
   "metadata": {},
   "outputs": [],
   "source": []
  },
  {
   "cell_type": "code",
   "execution_count": 116,
   "metadata": {},
   "outputs": [
    {
     "data": {
      "text/plain": [
       "38760"
      ]
     },
     "execution_count": 116,
     "metadata": {},
     "output_type": "execute_result"
    }
   ],
   "source": [
    "comb(20, 6)"
   ]
  },
  {
   "cell_type": "code",
   "execution_count": 134,
   "metadata": {},
   "outputs": [],
   "source": [
    "bit = (0, 1)\n",
    "p = 0.1\n",
    "from itertools import product\n",
    "n = 10\n",
    "#sum(1 for e in product(*(bit, )*n) if sum(e) == 6)"
   ]
  },
  {
   "cell_type": "code",
   "execution_count": 135,
   "metadata": {},
   "outputs": [],
   "source": [
    "evento = filter(lambda e: sum(e) == 4, product(*((bit,)*n)))"
   ]
  },
  {
   "cell_type": "code",
   "execution_count": 136,
   "metadata": {},
   "outputs": [
    {
     "data": {
      "text/plain": [
       "0.011160260999999986"
      ]
     },
     "execution_count": 136,
     "metadata": {},
     "output_type": "execute_result"
    }
   ],
   "source": [
    "sum(map(lambda e: p**sum(e) * (1-p)**(n-sum(e)), evento))"
   ]
  },
  {
   "cell_type": "markdown",
   "metadata": {},
   "source": [
    "# ¿Cómo ajustar escalas de tiempo correctamente?\n",
    "\n",
    "Suponer que uno sabe que la probabilidad de que un evento suceda \"al menos una vez\" durante una serie de n repeticiones es $p_n$,\n",
    "¿qué podemos decir de la probabilidad de que suceda en la próxima repetición? (asumiendo uniformidad y simetría temporal)\n",
    "\n",
    "Notar que **NO** estamos preguntando:\n",
    "* ¿cuál es la probabilidad de que pase ahora sabiendo que SÍ o SÍ va a pasar en los próximos n?\n",
    "* ¿cuál es la probabilidad de que pase ahora sabiendo que va a pasar UNA y sólo UNA vez en los próximos n?\n"
   ]
  },
  {
   "cell_type": "code",
   "execution_count": 162,
   "metadata": {},
   "outputs": [
    {
     "data": {
      "text/plain": [
       "0.0007002801120448179"
      ]
     },
     "execution_count": 162,
     "metadata": {},
     "output_type": "execute_result"
    }
   ],
   "source": [
    "(p_anio := 1 / 1428)"
   ]
  },
  {
   "cell_type": "code",
   "execution_count": 161,
   "metadata": {},
   "outputs": [
    {
     "data": {
      "text/plain": [
       "1.919245891657262e-06"
      ]
     },
     "execution_count": 161,
     "metadata": {},
     "output_type": "execute_result"
    }
   ],
   "source": [
    "(p_dia := 1 - (1 - p_anio)**(1/365))"
   ]
  },
  {
   "cell_type": "code",
   "execution_count": 160,
   "metadata": {},
   "outputs": [
    {
     "data": {
      "text/plain": [
       "0.00038377588587035216"
      ]
     },
     "execution_count": 160,
     "metadata": {},
     "output_type": "execute_result"
    }
   ],
   "source": [
    "(p_200dias := 1 - (1 - p_dia)**200)"
   ]
  },
  {
   "cell_type": "code",
   "execution_count": null,
   "metadata": {},
   "outputs": [],
   "source": []
  }
 ],
 "metadata": {
  "kernelspec": {
   "display_name": "Python 3",
   "language": "python",
   "name": "python3"
  },
  "language_info": {
   "codemirror_mode": {
    "name": "ipython",
    "version": 3
   },
   "file_extension": ".py",
   "mimetype": "text/x-python",
   "name": "python",
   "nbconvert_exporter": "python",
   "pygments_lexer": "ipython3",
   "version": "3.8.2"
  }
 },
 "nbformat": 4,
 "nbformat_minor": 4
}
