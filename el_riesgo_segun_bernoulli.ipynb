{
 "cells": [
  {
   "cell_type": "markdown",
   "metadata": {},
   "source": [
    "# El Riesgo según Daniel Bernoulli (1738)\n",
    "\n",
    "Vamos a explorar las implicancias de las ideas de Daniel Bernoulli acerca del riesgo.\n",
    "\n",
    "Por favor, sírvase de una copia digital de dicho documento histórico: https://www.semanticscholar.org/paper/Exposition-of-a-New-Theory-on-the-Measurement-of-Bernoulli/ef512f15aa1c294c7575aa329a7fecd80be6633b"
   ]
  },
  {
   "cell_type": "markdown",
   "metadata": {},
   "source": [
    "## §1\n",
    "\n",
    "EVER SINCE mathematicians first began to study the measurement of risk there has been general agreement on the following proposition:\n",
    "\n",
    "*Expected values are computed by multiplying each possible gain by the number of ways in which it can occur, and then dividing the sum of these products by the total number of possible cases where, in this theory, the consideration of cases which are all of the same probability is insisted upon.*\n",
    "\n",
    "If this rule be accepted, what remains to be done within the framework of this theory amounts to the enumeration of all alterna-tives, their breakdown into equi-probable cases and, finally, their insertion into corresponding classifications. "
   ]
  },
  {
   "cell_type": "code",
   "execution_count": 11,
   "metadata": {},
   "outputs": [],
   "source": [
    "possibilities = [(1, 35), (36, -1)]"
   ]
  },
  {
   "cell_type": "code",
   "execution_count": 12,
   "metadata": {},
   "outputs": [
    {
     "data": {
      "text/plain": [
       "-0.02702702702702703"
      ]
     },
     "execution_count": 12,
     "metadata": {},
     "output_type": "execute_result"
    }
   ],
   "source": [
    "expectation = sum(n_ways * gain for n_ways, gain in possibilities) / sum(n_ways for n_ways, _ in possibilities)\n",
    "expectation"
   ]
  },
  {
   "cell_type": "code",
   "execution_count": 61,
   "metadata": {},
   "outputs": [],
   "source": [
    "cases = {0:0.5, 20000:0.5}"
   ]
  },
  {
   "cell_type": "code",
   "execution_count": 62,
   "metadata": {},
   "outputs": [],
   "source": [
    "def classic_sell_decision(how_much_i_receive_for_the_ticket, cases):\n",
    "    expectation = 0\n",
    "    for k,v in cases.items():\n",
    "        expectation += k*v\n",
    "    return (how_much_i_receive_for_the_ticket - expectation > 0)"
   ]
  },
  {
   "cell_type": "code",
   "execution_count": 63,
   "metadata": {},
   "outputs": [
    {
     "data": {
      "text/plain": [
       "False"
      ]
     },
     "execution_count": 63,
     "metadata": {},
     "output_type": "execute_result"
    }
   ],
   "source": [
    "classic_sell_decision(9000, cases)"
   ]
  },
  {
   "cell_type": "code",
   "execution_count": 64,
   "metadata": {},
   "outputs": [],
   "source": [
    "def classic_buy_decision(how_much_i_receive_for_the_ticket, cases):\n",
    "    expectation = 0\n",
    "    for k,v in cases.items():\n",
    "        expectation += k*v\n",
    "    return (expectation - how_much_i_receive_for_the_ticket > 0)    "
   ]
  },
  {
   "cell_type": "code",
   "execution_count": 65,
   "metadata": {},
   "outputs": [
    {
     "data": {
      "text/plain": [
       "True"
      ]
     },
     "execution_count": 65,
     "metadata": {},
     "output_type": "execute_result"
    }
   ],
   "source": [
    "classic_buy_decision(9000, cases)"
   ]
  },
  {
   "cell_type": "code",
   "execution_count": 83,
   "metadata": {},
   "outputs": [],
   "source": [
    "def utility(value):\n",
    "    # classic utility\n",
    "    return value**(1/2)\n",
    "\n",
    "def inverse_utility(value):\n",
    "    # classic utility\n",
    "    return value**(2)\n",
    "\n",
    "def dani_sell_decision(how_much_i_receive_for_the_ticket, cases, utility_func, inverse_utility_func):\n",
    "    moral_expectation = 0\n",
    "    for k,v in cases.items():\n",
    "        moral_expectation += utility_func(k) * v\n",
    "    moral_expectation_in_same_unit = inverse_utility_func(moral_expectation)\n",
    "    return (how_much_i_receive_for_the_ticket - moral_expectation_in_same_unit > 0)"
   ]
  },
  {
   "cell_type": "code",
   "execution_count": 84,
   "metadata": {},
   "outputs": [
    {
     "data": {
      "text/plain": [
       "True"
      ]
     },
     "execution_count": 84,
     "metadata": {},
     "output_type": "execute_result"
    }
   ],
   "source": [
    "dani_sell_decision(9000, cases, utility, inverse_utility)"
   ]
  },
  {
   "cell_type": "code",
   "execution_count": null,
   "metadata": {},
   "outputs": [],
   "source": []
  }
 ],
 "metadata": {
  "kernelspec": {
   "display_name": "Python 3",
   "language": "python",
   "name": "python3"
  },
  "language_info": {
   "codemirror_mode": {
    "name": "ipython",
    "version": 3
   },
   "file_extension": ".py",
   "mimetype": "text/x-python",
   "name": "python",
   "nbconvert_exporter": "python",
   "pygments_lexer": "ipython3",
   "version": "3.8.2"
  }
 },
 "nbformat": 4,
 "nbformat_minor": 4
}
