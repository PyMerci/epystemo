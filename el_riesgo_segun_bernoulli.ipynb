{
 "cells": [
  {
   "cell_type": "markdown",
   "metadata": {},
   "source": [
    "# El Riesgo según Daniel Bernoulli (1738)\n",
    "\n",
    "Vamos a explorar las implicancias de las ideas de Daniel Bernoulli acerca del riesgo.\n",
    "\n",
    "Por favor, sírvase de una copia digital de dicho documento histórico: https://www.semanticscholar.org/paper/Exposition-of-a-New-Theory-on-the-Measurement-of-Bernoulli/ef512f15aa1c294c7575aa329a7fecd80be6633b"
   ]
  },
  {
   "cell_type": "markdown",
   "metadata": {},
   "source": [
    "## §1\n",
    "\n",
    "EVER SINCE mathematicians first began to study the measurement of risk there has been general agreement on the following proposition:\n",
    "\n",
    "*Expected values are computed by multiplying each possible gain by the number of ways in which it can occur, and then dividing the sum of these products by the total number of possible cases where, in this theory, the consideration of cases which are all of the same probability is insisted upon.*\n",
    "\n",
    "If this rule be accepted, what remains to be done within the framework of this theory amounts to the enumeration of all alterna-tives, their breakdown into equi-probable cases and, finally, their insertion into corresponding classifications. "
   ]
  },
  {
   "cell_type": "code",
   "execution_count": 12,
   "metadata": {},
   "outputs": [],
   "source": [
    "possibilities = [(1, 36), (36, 0)]"
   ]
  },
  {
   "cell_type": "code",
   "execution_count": 13,
   "metadata": {},
   "outputs": [
    {
     "data": {
      "text/plain": [
       "0.972972972972973"
      ]
     },
     "execution_count": 13,
     "metadata": {},
     "output_type": "execute_result"
    }
   ],
   "source": [
    "expectation = sum(n_ways * gain for n_ways, gain in possibilities) / sum(n_ways for n_ways, _ in possibilities)\n",
    "expectation"
   ]
  }
 ],
 "metadata": {
  "kernelspec": {
   "display_name": "Python 3",
   "language": "python",
   "name": "python3"
  },
  "language_info": {
   "codemirror_mode": {
    "name": "ipython",
    "version": 3
   },
   "file_extension": ".py",
   "mimetype": "text/x-python",
   "name": "python",
   "nbconvert_exporter": "python",
   "pygments_lexer": "ipython3",
   "version": "3.8.3"
  }
 },
 "nbformat": 4,
 "nbformat_minor": 4
}
