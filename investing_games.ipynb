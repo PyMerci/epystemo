{
 "cells": [
  {
   "cell_type": "markdown",
   "metadata": {},
   "source": [
    "# Investing Games"
   ]
  },
  {
   "cell_type": "markdown",
   "metadata": {},
   "source": [
    "[Inspiration](https://breakingthemarket.com/math-games/)"
   ]
  },
  {
   "cell_type": "markdown",
   "metadata": {},
   "source": [
    "> \"Understanding gambling games is one of the best training grounds for getting into the investment world.\"\n",
    "    \n",
    "                                                                                 Edward O. Thorp.-"
   ]
  },
  {
   "cell_type": "markdown",
   "metadata": {},
   "source": [
    "([He](https://en.wikipedia.org/wiki/Edward_O._Thorp) pioneered the modern applications of probability theory, including the harnessing of very small correlations for reliable financial gain.)"
   ]
  },
  {
   "cell_type": "markdown",
   "metadata": {},
   "source": [
    "## Game #1"
   ]
  },
  {
   "cell_type": "markdown",
   "metadata": {},
   "source": [
    "Bet \\\\$100. Flip a coin, heads you win 50\\% of the bet (receive \\\\$150 back, for a gain of \\\\$50), tails you lose 40% of your money (get \\\\$60 back, for a loss of \\\\$40).  Do you play this game?"
   ]
  },
  {
   "cell_type": "markdown",
   "metadata": {},
   "source": [
    "Para caracterizarlo, se podría utilizar el valor esperado (sin necesidad de simular):"
   ]
  },
  {
   "cell_type": "code",
   "execution_count": 15,
   "metadata": {},
   "outputs": [
    {
     "name": "stdout",
     "output_type": "stream",
     "text": [
      "Aritmethic average: $105.0\n"
     ]
    }
   ],
   "source": [
    "print(f'Aritmethic average: ${(150 + 60)/2}')"
   ]
  },
  {
   "cell_type": "markdown",
   "metadata": {},
   "source": [
    "En castellano: el promedio de las ganancias obtenidas en todas las oportunidades en las que pueda (tenga al menos $\\$100$) y decida jugar a  este juego, será $\\$105$."
   ]
  },
  {
   "cell_type": "markdown",
   "metadata": {},
   "source": [
    "Eso parece favorable pero, ¿es apropiado este modelo para describir la situación sobre la cuál hay que decidir?"
   ]
  },
  {
   "cell_type": "markdown",
   "metadata": {},
   "source": [
    "Con énfasis epistemológico: ¿es la decisión independiente del contexto?"
   ]
  },
  {
   "cell_type": "markdown",
   "metadata": {},
   "source": [
    "Ojalá. Sería muy afortunado encontrar un problema cuya solución no dependiera del contexto.\n",
    "\n",
    "Esa es justamente la definición de **modelo**: una representación de una parte del TODO, artificialmente removida del resto.\n",
    "\n",
    "Una abstracción.\n",
    "\n",
    "Situaciones para imaginar:\n",
    "* Soy infinillonario y puedo jugar sólo una vez.\n",
    "* Tengo exactamente $\\$100$ y puedo jugar sólo una vez.\n",
    "* Claramente hay un montón de casos intermedios empezando con $W_0$ y pudiendo jugar $n$ veces."
   ]
  },
  {
   "cell_type": "markdown",
   "metadata": {},
   "source": [
    "## Game #2 ¿y #3?"
   ]
  },
  {
   "cell_type": "markdown",
   "metadata": {},
   "source": [
    "Now let’s add a wrinkle to the game.  After the first round, the game repeats with the entire payout of the first round.  You get to play repeatedly as long as you desire, but each time you have to bet everything. \n",
    "\n",
    "“You start the game with \\\\$100, and win the first round.  You now have \\\\$150.  You play again putting up \\\\$150 and win the second round leaving you with \\\\$225.  You play again with the \\\\$225 and lose the third round, falling to \\\\$135.  I decide when the game ends, not you.”\n",
    "\n",
    "Do you also play this game?  It is subtly different than the first game. "
   ]
  },
  {
   "cell_type": "code",
   "execution_count": 1,
   "metadata": {},
   "outputs": [],
   "source": [
    "import numpy as np\n",
    "from random import choice"
   ]
  },
  {
   "cell_type": "code",
   "execution_count": 2,
   "metadata": {},
   "outputs": [
    {
     "name": "stdout",
     "output_type": "stream",
     "text": [
      "Repetitions: 1. Return % (related to median): 60.0000%\n",
      "Repetitions: 5. Return % (related to median): 121.5000%\n",
      "Repetitions: 10. Return % (related to median): 59.0490%\n",
      "Repetitions: 15. Return % (related to median): 71.7445%\n",
      "Repetitions: 20. Return % (related to median): 34.8678%\n"
     ]
    }
   ],
   "source": [
    "reps = [1, 5, 10, 15, 20] \n",
    "for rep in reps: \n",
    "    experiments = 10000 \n",
    "    results = [] \n",
    "    for experiment in range(experiments): \n",
    "        bet = 100 \n",
    "        coins = [choice([1.5, 0.6]) for _ in range(rep)] \n",
    "        for coin in coins: \n",
    "            bet = bet * coin \n",
    "        results.append(bet) \n",
    "    print(\"Repetitions: {}. Return % (related to median): {:.4%}\".format(rep, np.median(results)/100))"
   ]
  },
  {
   "cell_type": "markdown",
   "metadata": {},
   "source": [
    "The correct answer, in my opinion, is to never play.  You will lose everything nearly every time.  Actually, if allowed to go on forever, the game will always trend toward total loss.  \n",
    "\n",
    "Strange isn’t it.  A game works in your favor when played once, and against you when repeated?\n",
    "\n",
    "epeated games of chance have very different odds of success than single games.  The odds of a series of bets – specifically a series of products (multiplication)- are driven by, and trend toward, the GEOMETRIC average.  Single bets, or a group of simultaneous bets -specifically a series of sums (addition)-, are driven by the ARITHMETIC average.   The arithmetic average for the game is \\\\$1.05, as seen in game #1. The geometric average of game #3 is \\\\$0.949 per game $(1.5 \\times 0.6)^{1/2}$.  A loss of over 5 percent per play."
   ]
  },
  {
   "cell_type": "markdown",
   "metadata": {},
   "source": [
    "If you play a game once, you will expect returns in line with the arithmetic average.  The expectation of a single play is 5% profit.  However with every repetition, the expected return degrades towards the geometric average.  Below is a chart showing the expected compounded return of a game, depending on the number of games played. "
   ]
  },
  {
   "cell_type": "code",
   "execution_count": 13,
   "metadata": {},
   "outputs": [
    {
     "name": "stdout",
     "output_type": "stream",
     "text": [
      "Repetitions: 1 - Return: 1.06 - Arithmetic Average: 1.06 - Geometric Average: 1.06\n",
      "Repetitions: 5 - Return: 0.969 - Arithmetic Average: 1.05 - Geometric Average: 0.969\n",
      "Repetitions: 10 - Return: 0.957 - Arithmetic Average: 1.05 - Geometric Average: 0.957\n",
      "Repetitions: 15 - Return: 0.955 - Arithmetic Average: 1.05 - Geometric Average: 0.955\n",
      "Repetitions: 20 - Return: 0.953 - Arithmetic Average: 1.05 - Geometric Average: 0.953\n"
     ]
    }
   ],
   "source": [
    "reps = [1, 5, 10, 15, 20] \n",
    "for rep in reps: \n",
    "    experiments = 10000 \n",
    "    geometric = [] \n",
    "    arithmetic = []\n",
    "    money = []\n",
    "    for experiment in range(experiments): \n",
    "        coins = [choice([1.5, 0.6]) for _ in range(rep)] \n",
    "        geometric_average = np.product(coins)**(1/rep)\n",
    "        arithmetic_average = np.mean(coins)\n",
    "        geometric.append(geometric_average)\n",
    "        arithmetic.append(arithmetic_average)\n",
    "        bet = 100 # initial bet\n",
    "        for coin in coins: \n",
    "            bet = bet * coin \n",
    "        return_ = (bet / 100)**(1/rep)\n",
    "        money.append(return_)\n",
    "    print(\"Repetitions: {} - Return: {:.3} - Arithmetic Average: {:.3} - Geometric Average: {:.3}\".format(rep, np.mean(money), np.mean(arithmetic), np.mean(geometric)))"
   ]
  },
  {
   "cell_type": "markdown",
   "metadata": {},
   "source": [
    "## Game #4"
   ]
  },
  {
   "cell_type": "markdown",
   "metadata": {},
   "source": [
    "Same rules as game #3, except each game is a bet of \\\\$100.  You have an \\\\$10000 to play the game.  Do you play?"
   ]
  },
  {
   "cell_type": "code",
   "execution_count": 7,
   "metadata": {},
   "outputs": [
    {
     "name": "stdout",
     "output_type": "stream",
     "text": [
      "Return calculated: 1.0500863999999999\n",
      "Aritmethic average: 1.05\n"
     ]
    }
   ],
   "source": [
    "money = 10000 \n",
    "bet = 100\n",
    "reps = int(money / bet)\n",
    "experiments = 10000\n",
    "\n",
    "results = [] \n",
    "for experiment in range(experiments): \n",
    "    coins = np.array([choice([1.5, 0.6]) for _ in range(reps)])\n",
    "    sum = np.sum(bet*coins)\n",
    "    results.append(sum)\n",
    "     \n",
    "print(\"Return calculated: {}\".format(np.mean(results)/money))  \n",
    "print(\"Aritmethic average: {}\".format((1.5+0.6)/2))"
   ]
  },
  {
   "cell_type": "markdown",
   "metadata": {},
   "source": [
    "You are repeating the game, which in light of the prior game should give you pause.  However, the payout is not being rolled into the next round.  Each round is only worth \\\\$100.  So the winning and losses are additive, not multiplicative as in game 3.  When the game adds and subtracts winnings the arithmetic average is followed.  The arithmetic average is in your favor by \\\\$5 per game (game 1).  Therefore you should play.  This is the game most people think of when they think of game 3."
   ]
  },
  {
   "cell_type": "markdown",
   "metadata": {},
   "source": [
    "## Game #5. "
   ]
  },
  {
   "cell_type": "markdown",
   "metadata": {},
   "source": [
    "Start with \\\\$100 and play with the same rules as game #3, but this time, you get to decide what percent of your payout is wagered.  I still decide when to quit.  Do you play?"
   ]
  },
  {
   "cell_type": "code",
   "execution_count": 33,
   "metadata": {},
   "outputs": [
    {
     "name": "stdout",
     "output_type": "stream",
     "text": [
      "Total risked 90.0%%\n",
      "Repetitions: 1. Cash: 150.0\n",
      "Repetitions: 10. Cash: 28.478894663270392\n",
      "Repetitions: 50. Cash: 1.2448201140484634\n",
      "Repetitions: 250. Cash: 0.23931636472704457\n",
      "Repetitions: 750. Cash: 8.142887292098083e-10\n",
      "Repetitions: 2000. Cash: 5.0793819781344706e-39\n",
      "---------------\n",
      "Total risked 80.0%%\n",
      "Repetitions: 1. Cash: 60.0\n",
      "Repetitions: 10. Cash: 68.99650299494397\n",
      "Repetitions: 50. Cash: 132.7777114609708\n",
      "Repetitions: 250. Cash: 0.005095247339360048\n",
      "Repetitions: 750. Cash: 0.00033711016746872726\n",
      "Repetitions: 2000. Cash: 2.8423122020482223e-27\n",
      "---------------\n",
      "Total risked 50.0%%\n",
      "Repetitions: 1. Cash: 60.0\n",
      "Repetitions: 10. Cash: 457.763671875\n",
      "Repetitions: 50. Cash: 3.2985348833279984\n",
      "Repetitions: 250. Cash: 75.0\n",
      "Repetitions: 750. Cash: 0.05942112188569817\n",
      "Repetitions: 2000. Cash: 25908505665.283333\n",
      "---------------\n",
      "Total risked 20.0%%\n",
      "Repetitions: 1. Cash: 60.0\n",
      "Repetitions: 10. Cash: 206.92399379519998\n",
      "Repetitions: 50. Cash: 35.962671548670954\n",
      "Repetitions: 250. Cash: 289.6859859696784\n",
      "Repetitions: 750. Cash: 2796.6375251943823\n",
      "Repetitions: 2000. Cash: 162167.64022050746\n",
      "---------------\n"
     ]
    }
   ],
   "source": [
    "payout_percs = [0.9, 0.8, 0.5, 0.2]\n",
    "for payout_perc in payout_percs:\n",
    "    print(\"Total risked {:.1%}%\".format(payout_perc))\n",
    "    reps = [1, 10, 50, 250, 750, 2000] \n",
    "    for rep in reps: \n",
    "        bet = 100 \n",
    "        cash = 0\n",
    "        coins = [choice([1.5, 0.6]) for _ in range(rep)] \n",
    "        for coin in coins:\n",
    "                total_cash = bet * coin + cash\n",
    "                bet = total_cash * payout_perc\n",
    "                cash = total_cash - bet\n",
    "        print(\"Repetitions: {}. Cash: {}\".format(rep, total_cash))\n",
    "    print(\"---------------\")"
   ]
  },
  {
   "cell_type": "markdown",
   "metadata": {},
   "source": [
    "Game #3 is a big loser and this game is very similar.  It is still a product of a series game, driven by a negative geometric average.\n",
    "\n",
    "However, if you bet the correct amounts, Game #5 is a good game to play.  Keep your bets below 50% of your total cash account and you will be favored to win money.  Keep your bets to 25% of your cash account, and you will be favored to win the most money, making 0.6% each game."
   ]
  },
  {
   "cell_type": "markdown",
   "metadata": {},
   "source": [
    "**Your bet size changes the long term odds of the game!**"
   ]
  },
  {
   "cell_type": "markdown",
   "metadata": {},
   "source": [
    "## Game #6"
   ]
  },
  {
   "cell_type": "markdown",
   "metadata": {},
   "source": [
    "Same rules as game #5, except there are two games going simultaneously, and you get to decide how much to invest in each game.  How do you play this game?"
   ]
  },
  {
   "cell_type": "code",
   "execution_count": 43,
   "metadata": {},
   "outputs": [],
   "source": [
    "def game_6(money, repetitions, games):\n",
    "    games_simultaneously_factor = 1. / games\n",
    "    payout_percs = [0.1, 0.2, 0.3, 0.4, 0.5, 0.6, 0.7, 0.8, 0.9] \n",
    "    results = []\n",
    "    for payout_perc in payout_percs: \n",
    "        bet = initial_money * games_simultaneously_factor\n",
    "\n",
    "        coin_sets = []\n",
    "        for game in range(games):\n",
    "            coin_sets.append([choice([1.5, 0.6]) for _ in range(repetitions)])\n",
    "        cashes = np.zeros(games)\n",
    "        \n",
    "        for coin in range(repetitions):\n",
    "            for game in range(games):\n",
    "                cashes[game] = bet * coin_sets[game][coin] + cashes[game]\n",
    "            total_cash = np.sum(cashes)\n",
    "            bet = total_cash * payout_perc * games_simultaneously_factor\n",
    "            cashes = cashes - bet \n",
    "        results.append(total_cash) \n",
    "    return results"
   ]
  },
  {
   "cell_type": "code",
   "execution_count": 45,
   "metadata": {},
   "outputs": [
    {
     "name": "stdout",
     "output_type": "stream",
     "text": [
      "[17196.12561906632, 5083.653653104696, 148084.75235598633, 154.8889298604846, 0.36267774588438706, 9.57869690388428e-08, 3.026564578764039e-05, 0.0008114480919977786, 1.8837686456227333e-12]\n",
      "[10724.029369750477, 1236518.9462453853, 1456156.5172964493, 8447484.347927531, 70245669.11958493, 6560751017.531536, 832082.7471889193, 220061.4558050949, 19864.381634405203]\n",
      "[9186.667355300433, 204073.37197205934, 10492.265583376313, 1323924475740.5518, 1729059262965.7935, 2737229401380.25, 2008205684.0461192, 733139602.7664598, 3179847.3086581975]\n"
     ]
    }
   ],
   "source": [
    "initial_money = 100\n",
    "repetitions = 1000\n",
    "print(game_6(initial_money, repetitions, 1))\n",
    "print(game_6(initial_money, repetitions, 2))\n",
    "print(game_6(initial_money, repetitions, 3))"
   ]
  },
  {
   "cell_type": "markdown",
   "metadata": {},
   "source": [
    "The more simultaneous games played, the closer the return moves toward the arithmetic average."
   ]
  },
  {
   "cell_type": "markdown",
   "metadata": {},
   "source": [
    "## Game #7"
   ]
  },
  {
   "cell_type": "code",
   "execution_count": null,
   "metadata": {},
   "outputs": [],
   "source": []
  }
 ],
 "metadata": {
  "kernelspec": {
   "display_name": "Python 3",
   "language": "python",
   "name": "python3"
  },
  "language_info": {
   "codemirror_mode": {
    "name": "ipython",
    "version": 3
   },
   "file_extension": ".py",
   "mimetype": "text/x-python",
   "name": "python",
   "nbconvert_exporter": "python",
   "pygments_lexer": "ipython3",
   "version": "3.8.2"
  }
 },
 "nbformat": 4,
 "nbformat_minor": 4
}
