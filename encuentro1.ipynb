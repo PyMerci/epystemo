{
 "cells": [
  {
   "cell_type": "markdown",
   "metadata": {},
   "source": [
    "# Epistemología Probabilística Idiosincrática (BOCETO)\n",
    "\n",
    "La filosofía clásica sufre una maldición eterna: cuando quiere entender algo, primero pretende definirlo, pero esto le lleva tanto tiempo que se convierte en la totalidad de su esfuerzo, que suele durar miles de años e involucrar a varias generaciones.\n",
    "\n",
    "Aquí intentaré dispensar rápidamente el problema de las definiciones, un poco por humildad y un poco por pereza. De la filosofía saltaré rápidamente a la matemática, esforzándome por evitar injustificadas abstracciones.\n",
    "\n",
    "El salto está justificado porque no concibo otra manera de entender la epistemología que no sea a través de la Teoría de la Probabilidad.\n",
    "\n",
    "El enfoque es _idiosincrático_ porque refleja mi propio proceso de aprendizaje, mi propio enfoque pedagógico, mi propia bronca con la forma usual en la que estos temas se presentan y mi crítica a la irresponsabilidad con la que estos conceptos se suelen utilizar."
   ]
  },
  {
   "cell_type": "markdown",
   "metadata": {},
   "source": [
    "## Conocimiento\n",
    "\n",
    "La epistemología estudia las formas de obtener \"conocimiento\", definido como la suma de regularidades exteriores suceptibles de generar consenso en personas macanudas."
   ]
  },
  {
   "cell_type": "markdown",
   "metadata": {},
   "source": [
    "## Decisiones\n",
    "\n",
    "El deseo por obtener conocimiento parte de la necesidad de tomar decisiones."
   ]
  },
  {
   "cell_type": "markdown",
   "metadata": {},
   "source": [
    "## Incertidumbre\n",
    "\n",
    "Si no tuviéramos incertidumbre, no necesitaríamos tomar decisiones. Todo sería siempre obvio. Es difícil imaginar al _libre albedrío_ fuera de un contexto de incertidumbre."
   ]
  },
  {
   "cell_type": "markdown",
   "metadata": {},
   "source": [
    "## Supervivencia\n",
    "\n",
    "La necesidad de tomar decisiones surge del instinto de supervivencia."
   ]
  },
  {
   "cell_type": "markdown",
   "metadata": {},
   "source": [
    "## Tiempo\n",
    "\n",
    "**PENDIENTE**"
   ]
  },
  {
   "cell_type": "markdown",
   "metadata": {},
   "source": [
    "## Teoría de Probabilidades\n",
    "\n",
    "El concepto de \"probabilidad\" es una abstracción que intenta capturar una intuición que hasta el día de hoy ha logrado esquivar todo intento de definición concreta. En cada contexto, son aceptables distintas interpretaciones. Las más comunes son:\n",
    "\n",
    "* frecuentista\n",
    "* bayesiana/subjetiva\n",
    "* derivadas de teorías físicas y argumentos de simetría\n",
    "\n",
    "Una vez dentro de la teoría, no hay diferencia en el tratamiento. Podemos decir que el problema está al entrar y al salir de la teoría. **El usuario tiene la obligación de insertar las probabilidades y la matemática no se hace responsable de los usos prácticos que con ella se hagan**."
   ]
  },
  {
   "cell_type": "markdown",
   "metadata": {},
   "source": [
    "### Experimento aleatorio\n",
    "\n",
    "El concepto principal de la teoría es el de **Experimento aleatorio**. Si pretendemos una definición abstracta, corremos el riesgo de entelequias. En este contexto un experimento no es más que una serie de instrucciones universales que, en principio, cualquier persona puede ejecutar. Ni más ni menos que lo que en computación se conoce como algoritmo. Desde el momento inicial, la Teoría de Probabilidades queda inseparablemente unida a la Teoría de la Computación, y más adelante veremos que en realidad son lo mismo y están unificadas bajo lo que hoy se conoce como computación cuántica (**ADVERTENCIA:** conejera de Alicia en el País de las Maravillas). Una última cosa: la computación cuántica **ES** la mecánica cuántica.\n",
    "\n",
    "Para que un experimento sea _aleatorio_, necesariamente debe contener una fuente de azar. El azar también es un concepto que lleva varios miles de años esquivando todo intento de definición. Acá nos conformamos con decir que es algo que en el futuro cambiará y no sabemos cómo. Justamente a esa ignorancia pretendemos medir. El concepto de _probabilidad_ se puede entender como una medida de nuestra ignorancia sobre sucesos futuros.\n",
    "\n",
    "Una vez especificadas las instrucciones que definen al experimento, debería quedar claro cuales son sus resultados posibles. El ejemplo más simple es el de un sistema físico con dos estados futuros posibles. Arrojar una moneda al aire, atraparla cerrando el puño y mostrarla abriendo la palma hacia arriba será nuestro arquetipo de experimento aleatorio (me adelanto: 2 estados posibles constituyen 1 bit, la mínima cantidad de información que se puede almacenar y obtener de un sistema físico). Información... conocimiento... la pucha...\n",
    "\n",
    "El concepto de _sistema físico_ es el mismo que en las ciencias naturales, y la analogía con la máxima abstracción posible de la experimentación científica es total. De hecho, esta es una de las razones por las cuales, al final, todo está unificado: física, computación y probabilidad (cuántica)."
   ]
  },
  {
   "cell_type": "markdown",
   "metadata": {},
   "source": [
    "### Espacio muestral Ω\n",
    "\n",
    "Una vez definido el experimento, utilizaremos la noción matemática de _conjunto_ para agrupar a todos sus resultados posibles. Ejemplos elementales:\n",
    "\n",
    "* Moneda: $\\Omega = \\{H; T\\}$\n",
    "    * H: _head_ (cara)\n",
    "    * T: _tail_ (ceca)\n",
    "* Dado: $\\Omega = \\{1; 2; 3; 4; 5; 6\\}$\n",
    "* Meteorología de mañana: $\\Omega = \\{soleado; nublado; lluvia; etc...\\}$\n",
    "    \n",
    "Advertencia: $\\Omega$ no necesariamente tiene estructura; puede contener cualquier cosa y sus elementos pueden ser de distinta naturaleza\n",
    "\n"
   ]
  },
  {
   "cell_type": "code",
   "execution_count": 1,
   "metadata": {},
   "outputs": [
    {
     "name": "stdout",
     "output_type": "stream",
     "text": [
      "Choose a random element from a non-empty sequence.\n"
     ]
    }
   ],
   "source": [
    "from random import choice\n",
    "print(choice.__doc__)"
   ]
  },
  {
   "cell_type": "markdown",
   "metadata": {},
   "source": [
    "Simular tiros de una moneda:"
   ]
  },
  {
   "cell_type": "code",
   "execution_count": 5,
   "metadata": {},
   "outputs": [
    {
     "data": {
      "text/plain": [
       "'THHTHHTTHTTHTTHTTHHTHTHHTHHHTHTHHHTHHTHT'"
      ]
     },
     "execution_count": 5,
     "metadata": {},
     "output_type": "execute_result"
    }
   ],
   "source": [
    "''.join(choice('HT') for _ in range(40))"
   ]
  },
  {
   "cell_type": "markdown",
   "metadata": {},
   "source": [
    "Simular tiros de un dado:"
   ]
  },
  {
   "cell_type": "code",
   "execution_count": 8,
   "metadata": {},
   "outputs": [
    {
     "data": {
      "text/plain": [
       "[2, 1, 2, 1, 5, 2, 4, 3, 4, 1, 5, 5, 3, 3, 4, 5, 3, 5, 5, 2]"
      ]
     },
     "execution_count": 8,
     "metadata": {},
     "output_type": "execute_result"
    }
   ],
   "source": [
    "[choice([1, 2, 3, 4, 5, 6]) for _ in range(20)]"
   ]
  },
  {
   "cell_type": "markdown",
   "metadata": {},
   "source": [
    "### Experimentos aleatorio elementales y combinados\n",
    "\n",
    "Elementales son aquellos que meramente son una fuente de azar, sin más operaciones que observarlos. Así como un algoritmo puede dividirse en partes, cada una de ellas otro algoritmo, los experimentos aleatorios pueden combinarse con idéntica libertad. Ejemplos:\n",
    "\n",
    "* Arrojar dos dados y sumarlos: $\\Omega = \\{2; 3; 4; 5; 6; 7; 8; 9; 10; 11; 12\\}$\n",
    "    - Notar la ausencia del 1.\n",
    "* Arrojar una moneda y, si sale cara, arrojarla de nuevo; si sale ceca, arrojar un dado: $\\Omega = \\{(H, H); (H, T); (T, 1); (T, 2); ... (T; 6)\\}$"
   ]
  },
  {
   "cell_type": "code",
   "execution_count": 28,
   "metadata": {},
   "outputs": [
    {
     "data": {
      "text/plain": [
       "[8, 6, 10, 9, 6, 4, 10, 7, 4, 6, 11, 8, 7, 7, 11, 8, 5, 6, 9, 9]"
      ]
     },
     "execution_count": 28,
     "metadata": {},
     "output_type": "execute_result"
    }
   ],
   "source": [
    "[choice([1, 2, 3, 4, 5, 6]) + choice([1, 2, 3, 4, 5, 6]) for _ in range(20)]"
   ]
  },
  {
   "cell_type": "code",
   "execution_count": 31,
   "metadata": {},
   "outputs": [],
   "source": [
    "def exp():\n",
    "    a = choice('HT')\n",
    "    b = choice('HT') if a == 'H' else choice([1, 2, 3, 4, 5, 6])\n",
    "    return (a, b)"
   ]
  },
  {
   "cell_type": "code",
   "execution_count": 32,
   "metadata": {},
   "outputs": [
    {
     "data": {
      "text/plain": [
       "[('H', 'T'),\n",
       " ('H', 'H'),\n",
       " ('T', 6),\n",
       " ('H', 'T'),\n",
       " ('H', 'T'),\n",
       " ('H', 'T'),\n",
       " ('T', 6),\n",
       " ('T', 2),\n",
       " ('T', 6),\n",
       " ('T', 3)]"
      ]
     },
     "execution_count": 32,
     "metadata": {},
     "output_type": "execute_result"
    }
   ],
   "source": [
    "[exp() for _ in range(10)]"
   ]
  },
  {
   "cell_type": "markdown",
   "metadata": {},
   "source": [
    "### Probabilidades\n",
    "\n",
    "Sin importar cómo lo conectemos con el mundo real, matemáticamente las probabilidades son números entre 0 y 1 asociados a cada uno de los elementos de Ω. Al comienzo, sólo consideraremos fracciones. Más adelante veremos que podemos aceptar números reales. Debemos respetar:\n",
    "\n",
    "* $0 \\leq p(\\omega) \\leq 1 \\qquad \\forall \\omega \\in \\Omega$\n",
    "* $\\sum_{\\forall \\omega \\in \\Omega} p(w_i) = 1$\n",
    "\n",
    "#### Ejemplos:\n",
    "\n",
    "* Moneda \"honesta\": $p(H) = \\frac{1}{2} \\qquad p(T) = \\frac{1}{2}$\n",
    "    - es notable que se utilice la palabra \"honesta\" para \"balanceada\". Veremos la estrecha relación entre la teoría de probabilidad y la Ética y la Justicia.\n",
    "* Dado \"honesto\": $p(\\omega) = \\frac{1}{6} \\qquad \\forall \\omega \\in \\Omega$\n",
    "* Moneda cargada: $p(H) = \\frac{6}{7} \\qquad p(T) = \\frac{1}{7}$"
   ]
  },
  {
   "cell_type": "markdown",
   "metadata": {},
   "source": [
    "Una moneda cargada se puede simular imaginando que tiene más caras, en proporción apropiada:"
   ]
  },
  {
   "cell_type": "code",
   "execution_count": 39,
   "metadata": {},
   "outputs": [
    {
     "data": {
      "text/plain": [
       "'HHHHTHTHHHHHHHTHHHHHHHHHHHHHHHHHHHHHHHHH'"
      ]
     },
     "execution_count": 39,
     "metadata": {},
     "output_type": "execute_result"
    }
   ],
   "source": [
    "''.join(choice('HHHHHHT') for _ in range(40))"
   ]
  },
  {
   "cell_type": "markdown",
   "metadata": {},
   "source": [
    "### El experimento aleatorio más simple: el bit (moneda pomposa)\n",
    "\n",
    "* $\\Omega = \\{0; 1\\}$\n",
    "* $p(0) = \\frac{1}{2} \\qquad p(1) = \\frac{1}{2}$"
   ]
  },
  {
   "cell_type": "markdown",
   "metadata": {},
   "source": [
    "#### Experimentos infinitos\n",
    "\n",
    "Es muy fácil ejecutar instrucciones cuya terminación depende del azar. Esto es problemático, porque no hay garantía de que termine ([Halting Problem](https://en.wikipedia.org/wiki/Halting_problem)). Paradójicamente, vamos a aceptar aquellos casos en dónde podamos demostrar _a priori_ que la probabilidad de terminar en tiempo finito es 1. Ejemplo típico: tirar la moneda hasta que salga cara por primera vez."
   ]
  },
  {
   "cell_type": "code",
   "execution_count": 52,
   "metadata": {},
   "outputs": [],
   "source": [
    "def hasta_cara():\n",
    "    secuencia = ''\n",
    "    while (secuencia := secuencia + choice('HT'))[-1] != 'H':\n",
    "        continue\n",
    "    return secuencia"
   ]
  },
  {
   "cell_type": "markdown",
   "metadata": {},
   "source": [
    "Podría pasar que la siguiente línea te consuma toda la RAM, pero la probabilidad de eso es tan baja que no me importa:"
   ]
  },
  {
   "cell_type": "code",
   "execution_count": 55,
   "metadata": {},
   "outputs": [
    {
     "data": {
      "text/plain": [
       "['H', 'H', 'TTH', 'H', 'TTH', 'TH', 'H', 'TH', 'H', 'TH']"
      ]
     },
     "execution_count": 55,
     "metadata": {},
     "output_type": "execute_result"
    }
   ],
   "source": [
    "[hasta_cara() for _ in range(10)]"
   ]
  },
  {
   "cell_type": "markdown",
   "metadata": {},
   "source": [
    "### Eventos\n",
    "\n",
    "predicados, álgebra de eventos, sí tiene estructura"
   ]
  }
 ],
 "metadata": {
  "kernelspec": {
   "display_name": "Python 3",
   "language": "python",
   "name": "python3"
  },
  "language_info": {
   "codemirror_mode": {
    "name": "ipython",
    "version": 3
   },
   "file_extension": ".py",
   "mimetype": "text/x-python",
   "name": "python",
   "nbconvert_exporter": "python",
   "pygments_lexer": "ipython3",
   "version": "3.8.2"
  }
 },
 "nbformat": 4,
 "nbformat_minor": 4
}
