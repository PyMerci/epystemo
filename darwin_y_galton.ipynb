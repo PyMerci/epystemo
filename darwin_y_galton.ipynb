{
 "cells": [
  {
   "cell_type": "markdown",
   "metadata": {},
   "source": [
    "Darwin quería saber si su fertilizante funcionaba.\n",
    "\n",
    "Cultivó 10 plantas: 5 con fertilizante y 5 sin fertilizante.\n",
    "\n",
    "Midió todas las alturas la final del experimento.\n",
    "\n",
    "$$ \\forall i \\qquad X_i - F_X $$\n",
    "\n",
    "Se las mandó a Galton y le pidió que le diera su opinión."
   ]
  },
  {
   "cell_type": "markdown",
   "metadata": {},
   "source": [
    "A Galton se le ocurrió esto: si bien desconocemos la distribución de probabilidad de la variable aleatoria \"altura\", lo que podemos afirmar con seguridad es si todas bienen de la misma:"
   ]
  },
  {
   "cell_type": "markdown",
   "metadata": {},
   "source": [
    "$\\forall i \\neq j \\qquad \\mathbb{P}(X_i > X_j) = 0.5$"
   ]
  },
  {
   "cell_type": "markdown",
   "metadata": {},
   "source": [
    "Aprovechando eso, arma un modelo probabilístico que sólo pretende responder esas preguntas, por lo tanto el álgebra de Eventos sólo contiene a las preguntas necesarias para calcular las probabilidades de los $10!$ maneras distintas de ordenar las muestras."
   ]
  },
  {
   "cell_type": "code",
   "execution_count": 80,
   "metadata": {},
   "outputs": [],
   "source": [
    "from itertools import permutations"
   ]
  },
  {
   "cell_type": "code",
   "execution_count": 52,
   "metadata": {},
   "outputs": [],
   "source": [
    "possibilities = permutations('SSSSSCCCCC')"
   ]
  },
  {
   "cell_type": "code",
   "execution_count": 81,
   "metadata": {},
   "outputs": [],
   "source": [
    "K = list(map(lambda p: 9 - ''.join(p).rfind('S'), possibilities))"
   ]
  },
  {
   "cell_type": "code",
   "execution_count": 54,
   "metadata": {},
   "outputs": [],
   "source": [
    "from collections import Counter"
   ]
  },
  {
   "cell_type": "code",
   "execution_count": 55,
   "metadata": {},
   "outputs": [
    {
     "data": {
      "text/plain": [
       "Counter({5: 14400, 4: 72000, 3: 216000, 2: 504000, 1: 1008000, 0: 1814400})"
      ]
     },
     "execution_count": 55,
     "metadata": {},
     "output_type": "execute_result"
    }
   ],
   "source": [
    "ks = Counter(K)\n",
    "ks"
   ]
  },
  {
   "cell_type": "code",
   "execution_count": 56,
   "metadata": {},
   "outputs": [],
   "source": [
    "from math import factorial"
   ]
  },
  {
   "cell_type": "code",
   "execution_count": 57,
   "metadata": {},
   "outputs": [
    {
     "data": {
      "text/plain": [
       "3628800"
      ]
     },
     "execution_count": 57,
     "metadata": {},
     "output_type": "execute_result"
    }
   ],
   "source": [
    "sum(ks.values())"
   ]
  },
  {
   "cell_type": "code",
   "execution_count": 58,
   "metadata": {},
   "outputs": [
    {
     "data": {
      "text/plain": [
       "3628800"
      ]
     },
     "execution_count": 58,
     "metadata": {},
     "output_type": "execute_result"
    }
   ],
   "source": [
    "factorial(10)"
   ]
  },
  {
   "cell_type": "code",
   "execution_count": 93,
   "metadata": {},
   "outputs": [
    {
     "data": {
      "text/plain": [
       "0.003968253968253968"
      ]
     },
     "execution_count": 93,
     "metadata": {},
     "output_type": "execute_result"
    }
   ],
   "source": [
    "14400 / factorial(10)"
   ]
  },
  {
   "cell_type": "code",
   "execution_count": 88,
   "metadata": {},
   "outputs": [],
   "source": [
    "import matplotlib.pyplot as plt"
   ]
  },
  {
   "cell_type": "code",
   "execution_count": 92,
   "metadata": {},
   "outputs": [
    {
     "data": {
      "image/png": "[encoded data removed]",
      "text/plain": [
       "<Figure size 432x288 with 1 Axes>"
      ]
     },
     "metadata": {
      "needs_background": "light"
     },
     "output_type": "display_data"
    }
   ],
   "source": [
    "plt.plot(list(ks.keys()), [v/factorial(10) for v in ks.values()], '.-')\n",
    "plt.plot([0, 5], [0.05, 0.05], '--')\n",
    "plt.xlabel('k: # del grupo CON mayores que la mayor del grupo SIN')\n",
    "plt.ylabel('P(K=k)')\n",
    "plt.text(0.05, 0.06, 'p = 0.05', color='orange')\n",
    "plt.grid()\n",
    "plt.axis([0, 5, 0, 0.5])\n",
    "plt.show()"
   ]
  },
  {
   "cell_type": "markdown",
   "metadata": {},
   "source": [
    "Entonces, puede asignar probabilidades a los eventos \"k plantas con fertilizante crecieron más que TODAS las sin fertilizante\":"
   ]
  }
 ],
 "metadata": {
  "kernelspec": {
   "display_name": "Python 3",
   "language": "python",
   "name": "python3"
  },
  "language_info": {
   "codemirror_mode": {
    "name": "ipython",
    "version": 3
   },
   "file_extension": ".py",
   "mimetype": "text/x-python",
   "name": "python",
   "nbconvert_exporter": "python",
   "pygments_lexer": "ipython3",
   "version": "3.8.3"
  }
 },
 "nbformat": 4,
 "nbformat_minor": 4
}
